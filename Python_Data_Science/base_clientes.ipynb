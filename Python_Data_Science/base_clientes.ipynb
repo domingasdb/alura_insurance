{
 "cells": [
  {
   "cell_type": "code",
   "execution_count": 12,
   "metadata": {},
   "outputs": [],
   "source": [
    "import numpy as np"
   ]
  },
  {
   "cell_type": "code",
   "execution_count": 15,
   "metadata": {},
   "outputs": [
    {
     "data": {
      "text/plain": [
       "array([['1', '75', 'F', 'viuvo', '4', '18385.0'],\n",
       "       ['2', '47', 'F', 'divorciado', '3', '22684.0'],\n",
       "       ['3', '24', 'F', 'outros', '3', '18451.0'],\n",
       "       ...,\n",
       "       ['998', '20', 'M', 'solteiro', '3', '44455.0'],\n",
       "       ['999', '57', 'M', 'viuvo', '0', '34090.0'],\n",
       "       ['1000', '78', 'F', 'casado', '2', '21572.0']], dtype='<U32')"
      ]
     },
     "execution_count": 15,
     "metadata": {},
     "output_type": "execute_result"
    }
   ],
   "source": [
    "# Definindo o tamanho da massa de dados\n",
    "n = 1000\n",
    "\n",
    "# Criando o array de ids com números inteiros de 1 a 1000\n",
    "ids = np.arange(1, n+1)\n",
    "\n",
    "# Criando o array de idades com valores aleatórios entre 18 e 80 anos\n",
    "idades = np.random.randint(18, 80, size=n)\n",
    "\n",
    "# Criando o array de sexos com valores aleatórios entre 'M' e 'F'\n",
    "sexos = np.random.choice(['M', 'F'], size=n)\n",
    "\n",
    "# Criando o array de estados civis com valores aleatórios: 'solteiro', 'casado', 'divorciado', 'viuvo' e 'outros'\n",
    "estados_civis = np.random.choice(['solteiro', 'casado', 'divorciado', 'viuvo', 'outros'], size=n)\n",
    "\n",
    "# Criando o array de sinistros com valores aleatórios entre 0 e 10\n",
    "sinistros = np.random.randint(0, 5, size=n)\n",
    "\n",
    "# Criando o array de prêmios com valores aleatórios entre 500 e 5000 reais\n",
    "premios = np.random.randint(500, 50000, size=n).astype('float')\n",
    "\n",
    "# Criando o dataframe com as colunas definidas acima\n",
    "# dados = pd.DataFrame({'id': ids,\n",
    "#                       'idade': idades,\n",
    "#                       'sexo': sexos,\n",
    "#                       'estado_civil': estados_civis,\n",
    "#                       'sinistros': sinistros,\n",
    "#                       'premios': premios})\n",
    "\n",
    "# colunas = list(ids, idades, sexos, estados_civis, sinistros, premios)\n",
    "\n",
    "dados = np.column_stack((ids, idades, sexos, estados_civis, sinistros, premios))\n",
    "dados"
   ]
  },
  {
   "cell_type": "code",
   "execution_count": 19,
   "metadata": {},
   "outputs": [
    {
     "data": {
      "text/plain": [
       "array([['1', '75', 'F', 'viuvo', '4', '18385.0'],\n",
       "       ['2', '47', 'F', 'divorciado', '3', '22684.0'],\n",
       "       ['4', '45', 'F', 'casado', '4', '4805.0'],\n",
       "       ...,\n",
       "       ['997', '50', 'F', 'solteiro', '4', '48852.0'],\n",
       "       ['999', '57', 'M', 'viuvo', '0', '34090.0'],\n",
       "       ['1000', '78', 'F', 'casado', '2', '21572.0']], dtype='<U32')"
      ]
     },
     "execution_count": 19,
     "metadata": {},
     "output_type": "execute_result"
    }
   ],
   "source": [
    "idade_maior_30 = idades > 30\n",
    "dados_filtrados = dados[idade_maior_30]\n",
    "dados_filtrados"
   ]
  },
  {
   "cell_type": "code",
   "execution_count": 21,
   "metadata": {},
   "outputs": [
    {
     "data": {
      "text/plain": [
       "array([['9', '50', 'M', 'outros', '0', '3300.0'],\n",
       "       ['15', '29', 'M', 'solteiro', '0', '36611.0'],\n",
       "       ['18', '18', 'M', 'casado', '0', '39524.0'],\n",
       "       ...,\n",
       "       ['992', '26', 'F', 'casado', '0', '7351.0'],\n",
       "       ['994', '32', 'F', 'viuvo', '0', '14420.0'],\n",
       "       ['999', '57', 'M', 'viuvo', '0', '34090.0']], dtype='<U32')"
      ]
     },
     "execution_count": 21,
     "metadata": {},
     "output_type": "execute_result"
    }
   ],
   "source": [
    "sinistro_zero = sinistros == 0\n",
    "filtro_premio = premios > 1000\n",
    "dados_filtrados = dados[sinistro_zero & filtro_premio]\n",
    "dados_filtrados"
   ]
  },
  {
   "cell_type": "code",
   "execution_count": 51,
   "metadata": {},
   "outputs": [
    {
     "data": {
      "text/plain": [
       "753"
      ]
     },
     "execution_count": 51,
     "metadata": {},
     "output_type": "execute_result"
    }
   ],
   "source": [
    "# clientes_maior_30anos = len(dados[dados['idade'] > 30])\n",
    "# clientes_maior_30anos"
   ]
  },
  {
   "cell_type": "code",
   "execution_count": 52,
   "metadata": {},
   "outputs": [
    {
     "data": {
      "text/plain": [
       "99"
      ]
     },
     "execution_count": 52,
     "metadata": {},
     "output_type": "execute_result"
    }
   ],
   "source": [
    "#filtro1 = clientes que têm histórico de sinistros igual a zero e que pagam um prêmio superior a 1000.\n",
    "filtro1 = dados[(dados['sinistros'] == 0) & (dados['premios'] > 1000)]\n",
    "len(filtro1)"
   ]
  },
  {
   "cell_type": "code",
   "execution_count": 65,
   "metadata": {},
   "outputs": [
    {
     "data": {
      "text/plain": [
       "mais de 60    259\n",
       "46-60         253\n",
       "17-30         247\n",
       "31-45         241\n",
       "Name: faixa_etaria, dtype: int64"
      ]
     },
     "execution_count": 65,
     "metadata": {},
     "output_type": "execute_result"
    }
   ],
   "source": [
    "# classificar faixa etária\n",
    "dados['faixa_etaria'] = pd.cut(\n",
    "    dados['idade'],\n",
    "    bins=[17, 30, 45, 60, 100],\n",
    "    labels=['17-30', '31-45', '46-60', 'mais de 60']\n",
    ")\n",
    "\n",
    "# contar clientes por faixa etária\n",
    "dados['faixa_etaria'].value_counts()\n"
   ]
  },
  {
   "cell_type": "code",
   "execution_count": 66,
   "metadata": {},
   "outputs": [
    {
     "data": {
      "text/plain": [
       "estado_civil\n",
       "casado        2821.897297\n",
       "divorciado    2861.591549\n",
       "outros        2722.910448\n",
       "solteiro      2795.721649\n",
       "viuvo         2854.763285\n",
       "Name: premios, dtype: float64"
      ]
     },
     "execution_count": 66,
     "metadata": {},
     "output_type": "execute_result"
    }
   ],
   "source": [
    "# Calcular o valor médio do prêmio pago pelos clientes de acordo com o seu estado civil.\n",
    "dados.groupby('estado_civil')['premios'].mean()"
   ]
  },
  {
   "cell_type": "code",
   "execution_count": 4,
   "metadata": {},
   "outputs": [
    {
     "data": {
      "text/html": [
       "<div>\n",
       "<style scoped>\n",
       "    .dataframe tbody tr th:only-of-type {\n",
       "        vertical-align: middle;\n",
       "    }\n",
       "\n",
       "    .dataframe tbody tr th {\n",
       "        vertical-align: top;\n",
       "    }\n",
       "\n",
       "    .dataframe thead th {\n",
       "        text-align: right;\n",
       "    }\n",
       "</style>\n",
       "<table border=\"1\" class=\"dataframe\">\n",
       "  <thead>\n",
       "    <tr style=\"text-align: right;\">\n",
       "      <th></th>\n",
       "      <th>id</th>\n",
       "      <th>idade</th>\n",
       "      <th>sexo</th>\n",
       "      <th>estado_civil</th>\n",
       "      <th>sinistros</th>\n",
       "      <th>premios</th>\n",
       "    </tr>\n",
       "  </thead>\n",
       "  <tbody>\n",
       "    <tr>\n",
       "      <th>1</th>\n",
       "      <td>2</td>\n",
       "      <td>72</td>\n",
       "      <td>M</td>\n",
       "      <td>casado</td>\n",
       "      <td>1</td>\n",
       "      <td>2995.0</td>\n",
       "    </tr>\n",
       "    <tr>\n",
       "      <th>4</th>\n",
       "      <td>5</td>\n",
       "      <td>64</td>\n",
       "      <td>F</td>\n",
       "      <td>divorciado</td>\n",
       "      <td>8</td>\n",
       "      <td>4848.0</td>\n",
       "    </tr>\n",
       "    <tr>\n",
       "      <th>5</th>\n",
       "      <td>6</td>\n",
       "      <td>32</td>\n",
       "      <td>F</td>\n",
       "      <td>divorciado</td>\n",
       "      <td>8</td>\n",
       "      <td>3483.0</td>\n",
       "    </tr>\n",
       "    <tr>\n",
       "      <th>6</th>\n",
       "      <td>7</td>\n",
       "      <td>29</td>\n",
       "      <td>M</td>\n",
       "      <td>divorciado</td>\n",
       "      <td>4</td>\n",
       "      <td>3214.0</td>\n",
       "    </tr>\n",
       "    <tr>\n",
       "      <th>9</th>\n",
       "      <td>10</td>\n",
       "      <td>19</td>\n",
       "      <td>F</td>\n",
       "      <td>viuvo</td>\n",
       "      <td>0</td>\n",
       "      <td>3725.0</td>\n",
       "    </tr>\n",
       "    <tr>\n",
       "      <th>...</th>\n",
       "      <td>...</td>\n",
       "      <td>...</td>\n",
       "      <td>...</td>\n",
       "      <td>...</td>\n",
       "      <td>...</td>\n",
       "      <td>...</td>\n",
       "    </tr>\n",
       "    <tr>\n",
       "      <th>988</th>\n",
       "      <td>989</td>\n",
       "      <td>69</td>\n",
       "      <td>M</td>\n",
       "      <td>divorciado</td>\n",
       "      <td>1</td>\n",
       "      <td>4488.0</td>\n",
       "    </tr>\n",
       "    <tr>\n",
       "      <th>991</th>\n",
       "      <td>992</td>\n",
       "      <td>31</td>\n",
       "      <td>F</td>\n",
       "      <td>solteiro</td>\n",
       "      <td>7</td>\n",
       "      <td>4473.0</td>\n",
       "    </tr>\n",
       "    <tr>\n",
       "      <th>992</th>\n",
       "      <td>993</td>\n",
       "      <td>63</td>\n",
       "      <td>F</td>\n",
       "      <td>casado</td>\n",
       "      <td>9</td>\n",
       "      <td>4943.0</td>\n",
       "    </tr>\n",
       "    <tr>\n",
       "      <th>994</th>\n",
       "      <td>995</td>\n",
       "      <td>29</td>\n",
       "      <td>F</td>\n",
       "      <td>solteiro</td>\n",
       "      <td>5</td>\n",
       "      <td>3003.0</td>\n",
       "    </tr>\n",
       "    <tr>\n",
       "      <th>998</th>\n",
       "      <td>999</td>\n",
       "      <td>57</td>\n",
       "      <td>F</td>\n",
       "      <td>viuvo</td>\n",
       "      <td>7</td>\n",
       "      <td>4566.0</td>\n",
       "    </tr>\n",
       "  </tbody>\n",
       "</table>\n",
       "<p>512 rows × 6 columns</p>\n",
       "</div>"
      ],
      "text/plain": [
       "      id  idade sexo estado_civil  sinistros  premios\n",
       "1      2     72    M       casado          1   2995.0\n",
       "4      5     64    F   divorciado          8   4848.0\n",
       "5      6     32    F   divorciado          8   3483.0\n",
       "6      7     29    M   divorciado          4   3214.0\n",
       "9     10     19    F        viuvo          0   3725.0\n",
       "..   ...    ...  ...          ...        ...      ...\n",
       "988  989     69    M   divorciado          1   4488.0\n",
       "991  992     31    F     solteiro          7   4473.0\n",
       "992  993     63    F       casado          9   4943.0\n",
       "994  995     29    F     solteiro          5   3003.0\n",
       "998  999     57    F        viuvo          7   4566.0\n",
       "\n",
       "[512 rows x 6 columns]"
      ]
     },
     "execution_count": 4,
     "metadata": {},
     "output_type": "execute_result"
    }
   ],
   "source": [
    "dados[(dados['premios'] > dados['premios'].mean())]"
   ]
  },
  {
   "cell_type": "code",
   "execution_count": null,
   "metadata": {},
   "outputs": [],
   "source": []
  }
 ],
 "metadata": {
  "kernelspec": {
   "display_name": "Python 3",
   "language": "python",
   "name": "python3"
  },
  "language_info": {
   "codemirror_mode": {
    "name": "ipython",
    "version": 3
   },
   "file_extension": ".py",
   "mimetype": "text/x-python",
   "name": "python",
   "nbconvert_exporter": "python",
   "pygments_lexer": "ipython3",
   "version": "3.11.0"
  },
  "orig_nbformat": 4
 },
 "nbformat": 4,
 "nbformat_minor": 2
}
