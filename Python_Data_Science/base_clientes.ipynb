{
 "cells": [
  {
   "cell_type": "code",
   "execution_count": 1,
   "metadata": {},
   "outputs": [],
   "source": [
    "import pandas as np\n"
   ]
  },
  {
   "cell_type": "code",
   "execution_count": null,
   "metadata": {},
   "outputs": [],
   "source": [
    "# ids → Números inteiros\n",
    "# idades → maior de 18 anos\n",
    "# sexos → M ou F\n",
    "# estados_civis → 'solteiro', 'casado', 'divorciado', 'viuvo'\n",
    "# sinistros → quantidade de sinistros\n",
    "# premios → valores\n",
    "\n",
    "import numpy as np\n",
    "import pandas as pd\n",
    "\n",
    "# Definindo o tamanho da massa de dados\n",
    "n = 1000\n",
    "\n",
    "# Criando o array de ids com números inteiros de 1 a 1000\n",
    "ids = np.arange(1, n+1)\n",
    "\n",
    "# Criando o array de idades com valores aleatórios entre 18 e 80 anos\n",
    "idades = np.random.randint(18, 80, size=n)\n",
    "\n",
    "# Criando o array de sexos com valores aleatórios entre 'M' e 'F'\n",
    "sexos = np.random.choice(['M', 'F'], size=n)\n",
    "\n",
    "# Criando o array de estados civis com valores aleatórios: 'solteiro', 'casado', 'divorciado', 'viuvo' e 'outros'\n",
    "estados_civis = np.random.choice(['solteiro', 'casado', 'divorciado', 'viuvo', 'outros'], size=n)\n",
    "\n",
    "# Criando o array de sinistros com valores aleatórios entre 0 e 10\n",
    "sinistros = np.random.randint(0, 10, size=n)\n",
    "\n",
    "# Criando o array de prêmios com valores aleatórios entre 500 e 5000 reais\n",
    "premios = np.random.randint(500, 5000, size=n)\n",
    "\n",
    "# Criando o dataframe com as colunas definidas acima\n",
    "dados = pd.DataFrame({'id': ids,\n",
    "                      'idade': idades,\n",
    "                      'sexo': sexos,\n",
    "                      'estado_civil': estados_civis,\n",
    "                      'sinistros': sinistros,\n",
    "                      'premios': premios})"
   ]
  }
 ],
 "metadata": {
  "kernelspec": {
   "display_name": "Python 3",
   "language": "python",
   "name": "python3"
  },
  "language_info": {
   "codemirror_mode": {
    "name": "ipython",
    "version": 3
   },
   "file_extension": ".py",
   "mimetype": "text/x-python",
   "name": "python",
   "nbconvert_exporter": "python",
   "pygments_lexer": "ipython3",
   "version": "3.11.0"
  },
  "orig_nbformat": 4
 },
 "nbformat": 4,
 "nbformat_minor": 2
}
